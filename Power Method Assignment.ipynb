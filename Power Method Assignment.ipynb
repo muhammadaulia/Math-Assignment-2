{
 "cells": [
  {
   "cell_type": "markdown",
   "metadata": {},
   "source": [
    "# Power Method Assignment"
   ]
  },
  {
   "cell_type": "markdown",
   "metadata": {},
   "source": [
    "Anggota yang mengerjakan :"
   ]
  },
  {
   "cell_type": "markdown",
   "metadata": {},
   "source": [
    "Muhammad Aulia Ash Shidiq (17523058)"
   ]
  },
  {
   "cell_type": "markdown",
   "metadata": {},
   "source": [
    "Nunu Vadila (17523061)"
   ]
  },
  {
   "cell_type": "code",
   "execution_count": 40,
   "metadata": {},
   "outputs": [],
   "source": [
    "library(matlib)"
   ]
  },
  {
   "cell_type": "code",
   "execution_count": 61,
   "metadata": {},
   "outputs": [
    {
     "data": {
      "text/html": [
       "<table>\n",
       "<tbody>\n",
       "\t<tr><td>4 </td><td>-5</td></tr>\n",
       "\t<tr><td>2 </td><td>-3</td></tr>\n",
       "</tbody>\n",
       "</table>\n"
      ],
      "text/latex": [
       "\\begin{tabular}{ll}\n",
       "\t 4  & -5\\\\\n",
       "\t 2  & -3\\\\\n",
       "\\end{tabular}\n"
      ],
      "text/markdown": [
       "\n",
       "| 4  | -5 | \n",
       "| 2  | -3 | \n",
       "\n",
       "\n"
      ],
      "text/plain": [
       "     [,1] [,2]\n",
       "[1,] 4    -5  \n",
       "[2,] 2    -3  "
      ]
     },
     "metadata": {},
     "output_type": "display_data"
    },
    {
     "data": {
      "text/html": [
       "<ol class=list-inline>\n",
       "\t<li>1</li>\n",
       "\t<li>0</li>\n",
       "</ol>\n"
      ],
      "text/latex": [
       "\\begin{enumerate*}\n",
       "\\item 1\n",
       "\\item 0\n",
       "\\end{enumerate*}\n"
      ],
      "text/markdown": [
       "1. 1\n",
       "2. 0\n",
       "\n",
       "\n"
      ],
      "text/plain": [
       "[1] 1 0"
      ]
     },
     "metadata": {},
     "output_type": "display_data"
    },
    {
     "data": {
      "text/html": [
       "<table>\n",
       "<tbody>\n",
       "\t<tr><td>4</td></tr>\n",
       "\t<tr><td>2</td></tr>\n",
       "</tbody>\n",
       "</table>\n"
      ],
      "text/latex": [
       "\\begin{tabular}{l}\n",
       "\t 4\\\\\n",
       "\t 2\\\\\n",
       "\\end{tabular}\n"
      ],
      "text/markdown": [
       "\n",
       "| 4 | \n",
       "| 2 | \n",
       "\n",
       "\n"
      ],
      "text/plain": [
       "     [,1]\n",
       "[1,] 4   \n",
       "[2,] 2   "
      ]
     },
     "metadata": {},
     "output_type": "display_data"
    },
    {
     "data": {
      "text/html": [
       "<dl>\n",
       "\t<dt>$vector_iterations</dt>\n",
       "\t\t<dd><table>\n",
       "<thead><tr><th scope=col>v1</th><th scope=col>v2</th><th scope=col>v3</th><th scope=col>v4</th><th scope=col>v5</th></tr></thead>\n",
       "<tbody>\n",
       "\t<tr><td>1        </td><td>0.8944272</td><td>0.9486833</td><td>0.9191450</td><td>0.9333456</td></tr>\n",
       "\t<tr><td>0        </td><td>0.4472136</td><td>0.3162278</td><td>0.3939193</td><td>0.3589791</td></tr>\n",
       "</tbody>\n",
       "</table>\n",
       "</dd>\n",
       "\t<dt>$iter</dt>\n",
       "\t\t<dd>5</dd>\n",
       "\t<dt>$vector</dt>\n",
       "\t\t<dd><table>\n",
       "<tbody>\n",
       "\t<tr><td>0.9333456</td></tr>\n",
       "\t<tr><td>0.3589791</td></tr>\n",
       "</tbody>\n",
       "</table>\n",
       "</dd>\n",
       "\t<dt>$value</dt>\n",
       "\t\t<dd>2.09278350515464</dd>\n",
       "</dl>\n"
      ],
      "text/latex": [
       "\\begin{description}\n",
       "\\item[\\$vector\\_iterations] \\begin{tabular}{lllll}\n",
       " v1 & v2 & v3 & v4 & v5\\\\\n",
       "\\hline\n",
       "\t 1         & 0.8944272 & 0.9486833 & 0.9191450 & 0.9333456\\\\\n",
       "\t 0         & 0.4472136 & 0.3162278 & 0.3939193 & 0.3589791\\\\\n",
       "\\end{tabular}\n",
       "\n",
       "\\item[\\$iter] 5\n",
       "\\item[\\$vector] \\begin{tabular}{l}\n",
       "\t 0.9333456\\\\\n",
       "\t 0.3589791\\\\\n",
       "\\end{tabular}\n",
       "\n",
       "\\item[\\$value] 2.09278350515464\n",
       "\\end{description}\n"
      ],
      "text/markdown": [
       "$vector_iterations\n",
       ":   \n",
       "v1 | v2 | v3 | v4 | v5 | \n",
       "|---|---|\n",
       "| 1         | 0.8944272 | 0.9486833 | 0.9191450 | 0.9333456 | \n",
       "| 0         | 0.4472136 | 0.3162278 | 0.3939193 | 0.3589791 | \n",
       "\n",
       "\n",
       "\n",
       "$iter\n",
       ":   5\n",
       "$vector\n",
       ":   \n",
       "| 0.9333456 | \n",
       "| 0.3589791 | \n",
       "\n",
       "\n",
       "\n",
       "$value\n",
       ":   2.09278350515464\n",
       "\n",
       "\n"
      ],
      "text/plain": [
       "$vector_iterations\n",
       "     v1        v2        v3        v4        v5\n",
       "[1,]  1 0.8944272 0.9486833 0.9191450 0.9333456\n",
       "[2,]  0 0.4472136 0.3162278 0.3939193 0.3589791\n",
       "\n",
       "$iter\n",
       "[1] 5\n",
       "\n",
       "$vector\n",
       "          [,1]\n",
       "[1,] 0.9333456\n",
       "[2,] 0.3589791\n",
       "\n",
       "$value\n",
       "[1] 2.092784\n"
      ]
     },
     "metadata": {},
     "output_type": "display_data"
    }
   ],
   "source": [
    "#Nomor 1\n",
    "A <- matrix(c(4,2,-5,-3), 2,2,FALSE)\n",
    "A\n",
    "\n",
    "b <- c(1,0)\n",
    "b\n",
    "\n",
    "C <- A%*%b\n",
    "C\n",
    "\n",
    "powerMethod(A,v = b,maxiter = 5,FALSE)"
   ]
  },
  {
   "cell_type": "code",
   "execution_count": 63,
   "metadata": {},
   "outputs": [
    {
     "data": {
      "text/html": [
       "<table>\n",
       "<tbody>\n",
       "\t<tr><td> 0 </td><td>11 </td><td> -5</td></tr>\n",
       "\t<tr><td>-2 </td><td>17 </td><td> -7</td></tr>\n",
       "\t<tr><td>-4 </td><td>26 </td><td>-10</td></tr>\n",
       "</tbody>\n",
       "</table>\n"
      ],
      "text/latex": [
       "\\begin{tabular}{lll}\n",
       "\t  0  & 11  &  -5\\\\\n",
       "\t -2  & 17  &  -7\\\\\n",
       "\t -4  & 26  & -10\\\\\n",
       "\\end{tabular}\n"
      ],
      "text/markdown": [
       "\n",
       "|  0  | 11  |  -5 | \n",
       "| -2  | 17  |  -7 | \n",
       "| -4  | 26  | -10 | \n",
       "\n",
       "\n"
      ],
      "text/plain": [
       "     [,1] [,2] [,3]\n",
       "[1,]  0   11    -5 \n",
       "[2,] -2   17    -7 \n",
       "[3,] -4   26   -10 "
      ]
     },
     "metadata": {},
     "output_type": "display_data"
    },
    {
     "data": {
      "text/html": [
       "<ol class=list-inline>\n",
       "\t<li>1</li>\n",
       "\t<li>1</li>\n",
       "\t<li>1</li>\n",
       "</ol>\n"
      ],
      "text/latex": [
       "\\begin{enumerate*}\n",
       "\\item 1\n",
       "\\item 1\n",
       "\\item 1\n",
       "\\end{enumerate*}\n"
      ],
      "text/markdown": [
       "1. 1\n",
       "2. 1\n",
       "3. 1\n",
       "\n",
       "\n"
      ],
      "text/plain": [
       "[1] 1 1 1"
      ]
     },
     "metadata": {},
     "output_type": "display_data"
    },
    {
     "data": {
      "text/html": [
       "<table>\n",
       "<tbody>\n",
       "\t<tr><td> 6</td></tr>\n",
       "\t<tr><td> 8</td></tr>\n",
       "\t<tr><td>12</td></tr>\n",
       "</tbody>\n",
       "</table>\n"
      ],
      "text/latex": [
       "\\begin{tabular}{l}\n",
       "\t  6\\\\\n",
       "\t  8\\\\\n",
       "\t 12\\\\\n",
       "\\end{tabular}\n"
      ],
      "text/markdown": [
       "\n",
       "|  6 | \n",
       "|  8 | \n",
       "| 12 | \n",
       "\n",
       "\n"
      ],
      "text/plain": [
       "     [,1]\n",
       "[1,]  6  \n",
       "[2,]  8  \n",
       "[3,] 12  "
      ]
     },
     "metadata": {},
     "output_type": "display_data"
    },
    {
     "data": {
      "text/html": [
       "<dl>\n",
       "\t<dt>$vector_iterations</dt>\n",
       "\t\t<dd><table>\n",
       "<thead><tr><th scope=col>v1</th><th scope=col>v2</th><th scope=col>v3</th><th scope=col>v4</th><th scope=col>v5</th></tr></thead>\n",
       "<tbody>\n",
       "\t<tr><td>1        </td><td>0.3841106</td><td>0.3478328</td><td>0.3349917</td><td>0.3294704</td></tr>\n",
       "\t<tr><td>1        </td><td>0.5121475</td><td>0.4969040</td><td>0.4913212</td><td>0.4888916</td></tr>\n",
       "\t<tr><td>1        </td><td>0.7682213</td><td>0.7950464</td><td>0.8039801</td><td>0.8077340</td></tr>\n",
       "</tbody>\n",
       "</table>\n",
       "</dd>\n",
       "\t<dt>$iter</dt>\n",
       "\t\t<dd>5</dd>\n",
       "\t<dt>$vector</dt>\n",
       "\t\t<dd><table>\n",
       "<tbody>\n",
       "\t<tr><td>0.3294704</td></tr>\n",
       "\t<tr><td>0.4888916</td></tr>\n",
       "\t<tr><td>0.8077340</td></tr>\n",
       "</tbody>\n",
       "</table>\n",
       "</dd>\n",
       "\t<dt>$value</dt>\n",
       "\t\t<dd>4.0964644753191</dd>\n",
       "</dl>\n"
      ],
      "text/latex": [
       "\\begin{description}\n",
       "\\item[\\$vector\\_iterations] \\begin{tabular}{lllll}\n",
       " v1 & v2 & v3 & v4 & v5\\\\\n",
       "\\hline\n",
       "\t 1         & 0.3841106 & 0.3478328 & 0.3349917 & 0.3294704\\\\\n",
       "\t 1         & 0.5121475 & 0.4969040 & 0.4913212 & 0.4888916\\\\\n",
       "\t 1         & 0.7682213 & 0.7950464 & 0.8039801 & 0.8077340\\\\\n",
       "\\end{tabular}\n",
       "\n",
       "\\item[\\$iter] 5\n",
       "\\item[\\$vector] \\begin{tabular}{l}\n",
       "\t 0.3294704\\\\\n",
       "\t 0.4888916\\\\\n",
       "\t 0.8077340\\\\\n",
       "\\end{tabular}\n",
       "\n",
       "\\item[\\$value] 4.0964644753191\n",
       "\\end{description}\n"
      ],
      "text/markdown": [
       "$vector_iterations\n",
       ":   \n",
       "v1 | v2 | v3 | v4 | v5 | \n",
       "|---|---|---|\n",
       "| 1         | 0.3841106 | 0.3478328 | 0.3349917 | 0.3294704 | \n",
       "| 1         | 0.5121475 | 0.4969040 | 0.4913212 | 0.4888916 | \n",
       "| 1         | 0.7682213 | 0.7950464 | 0.8039801 | 0.8077340 | \n",
       "\n",
       "\n",
       "\n",
       "$iter\n",
       ":   5\n",
       "$vector\n",
       ":   \n",
       "| 0.3294704 | \n",
       "| 0.4888916 | \n",
       "| 0.8077340 | \n",
       "\n",
       "\n",
       "\n",
       "$value\n",
       ":   4.0964644753191\n",
       "\n",
       "\n"
      ],
      "text/plain": [
       "$vector_iterations\n",
       "     v1        v2        v3        v4        v5\n",
       "[1,]  1 0.3841106 0.3478328 0.3349917 0.3294704\n",
       "[2,]  1 0.5121475 0.4969040 0.4913212 0.4888916\n",
       "[3,]  1 0.7682213 0.7950464 0.8039801 0.8077340\n",
       "\n",
       "$iter\n",
       "[1] 5\n",
       "\n",
       "$vector\n",
       "          [,1]\n",
       "[1,] 0.3294704\n",
       "[2,] 0.4888916\n",
       "[3,] 0.8077340\n",
       "\n",
       "$value\n",
       "[1] 4.096464\n"
      ]
     },
     "metadata": {},
     "output_type": "display_data"
    }
   ],
   "source": [
    "#Nomor 2\n",
    "B <- matrix(c(0,11,-5\n",
    "             ,-2,17,-7\n",
    "             ,-4,26,-10),3,3,TRUE)\n",
    "B\n",
    "e <- c(1,1,1)\n",
    "e\n",
    "\n",
    "D <- B%*%e\n",
    "D\n",
    "\n",
    "powerMethod(B,v = e,maxiter = 5,FALSE)"
   ]
  },
  {
   "cell_type": "code",
   "execution_count": null,
   "metadata": {},
   "outputs": [],
   "source": []
  }
 ],
 "metadata": {
  "kernelspec": {
   "display_name": "R",
   "language": "R",
   "name": "ir"
  },
  "language_info": {
   "codemirror_mode": "r",
   "file_extension": ".r",
   "mimetype": "text/x-r-source",
   "name": "R",
   "pygments_lexer": "r",
   "version": "3.5.1"
  }
 },
 "nbformat": 4,
 "nbformat_minor": 2
}
